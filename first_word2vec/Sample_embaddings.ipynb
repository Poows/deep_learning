{
  "nbformat": 4,
  "nbformat_minor": 0,
  "metadata": {
    "kernelspec": {
      "display_name": "Python 3",
      "language": "python",
      "name": "python3"
    },
    "language_info": {
      "codemirror_mode": {
        "name": "ipython",
        "version": 3
      },
      "file_extension": ".py",
      "mimetype": "text/x-python",
      "name": "python",
      "nbconvert_exporter": "python",
      "pygments_lexer": "ipython3",
      "version": "3.7.2"
    },
    "colab": {
      "name": "Копия блокнота \"[homework]simple_embeddings.ipynb\"",
      "provenance": [],
      "collapsed_sections": [
        "0sUSxk866j1_",
        "tY8PxB0j-ThG"
      ],
      "toc_visible": true
    },
    "widgets": {
      "application/vnd.jupyter.widget-state+json": {
        "e1ce5c8a74254f62a0115ca1aae57680": {
          "model_module": "@jupyter-widgets/controls",
          "model_name": "HBoxModel",
          "state": {
            "_view_name": "HBoxView",
            "_dom_classes": [],
            "_model_name": "HBoxModel",
            "_view_module": "@jupyter-widgets/controls",
            "_model_module_version": "1.5.0",
            "_view_count": null,
            "_view_module_version": "1.5.0",
            "box_style": "",
            "layout": "IPY_MODEL_d19a4bda88fc4734a81c47ad236f1b97",
            "_model_module": "@jupyter-widgets/controls",
            "children": [
              "IPY_MODEL_a927eee2e81843a09b1217ab4771106d",
              "IPY_MODEL_37006daf800d4872a531d08ad7d7e38c"
            ]
          }
        },
        "d19a4bda88fc4734a81c47ad236f1b97": {
          "model_module": "@jupyter-widgets/base",
          "model_name": "LayoutModel",
          "state": {
            "_view_name": "LayoutView",
            "grid_template_rows": null,
            "right": null,
            "justify_content": null,
            "_view_module": "@jupyter-widgets/base",
            "overflow": null,
            "_model_module_version": "1.2.0",
            "_view_count": null,
            "flex_flow": null,
            "width": null,
            "min_width": null,
            "border": null,
            "align_items": null,
            "bottom": null,
            "_model_module": "@jupyter-widgets/base",
            "top": null,
            "grid_column": null,
            "overflow_y": null,
            "overflow_x": null,
            "grid_auto_flow": null,
            "grid_area": null,
            "grid_template_columns": null,
            "flex": null,
            "_model_name": "LayoutModel",
            "justify_items": null,
            "grid_row": null,
            "max_height": null,
            "align_content": null,
            "visibility": null,
            "align_self": null,
            "height": null,
            "min_height": null,
            "padding": null,
            "grid_auto_rows": null,
            "grid_gap": null,
            "max_width": null,
            "order": null,
            "_view_module_version": "1.2.0",
            "grid_template_areas": null,
            "object_position": null,
            "object_fit": null,
            "grid_auto_columns": null,
            "margin": null,
            "display": null,
            "left": null
          }
        },
        "a927eee2e81843a09b1217ab4771106d": {
          "model_module": "@jupyter-widgets/controls",
          "model_name": "FloatProgressModel",
          "state": {
            "_view_name": "ProgressView",
            "style": "IPY_MODEL_af1e5b18374642e99cc8366a479989c9",
            "_dom_classes": [],
            "description": " 27%",
            "_model_name": "FloatProgressModel",
            "bar_style": "danger",
            "max": 3760,
            "_view_module": "@jupyter-widgets/controls",
            "_model_module_version": "1.5.0",
            "value": 1000,
            "_view_count": null,
            "_view_module_version": "1.5.0",
            "orientation": "horizontal",
            "min": 0,
            "description_tooltip": null,
            "_model_module": "@jupyter-widgets/controls",
            "layout": "IPY_MODEL_901acea51fde4bcfa00dd7449a109020"
          }
        },
        "37006daf800d4872a531d08ad7d7e38c": {
          "model_module": "@jupyter-widgets/controls",
          "model_name": "HTMLModel",
          "state": {
            "_view_name": "HTMLView",
            "style": "IPY_MODEL_63bf772257de4b159098b9a1a27e9151",
            "_dom_classes": [],
            "description": "",
            "_model_name": "HTMLModel",
            "placeholder": "​",
            "_view_module": "@jupyter-widgets/controls",
            "_model_module_version": "1.5.0",
            "value": " 1000/3760 [04:54&lt;13:31,  3.40it/s]",
            "_view_count": null,
            "_view_module_version": "1.5.0",
            "description_tooltip": null,
            "_model_module": "@jupyter-widgets/controls",
            "layout": "IPY_MODEL_5df6bab02cd242588db9fdd414f684e0"
          }
        },
        "af1e5b18374642e99cc8366a479989c9": {
          "model_module": "@jupyter-widgets/controls",
          "model_name": "ProgressStyleModel",
          "state": {
            "_view_name": "StyleView",
            "_model_name": "ProgressStyleModel",
            "description_width": "initial",
            "_view_module": "@jupyter-widgets/base",
            "_model_module_version": "1.5.0",
            "_view_count": null,
            "_view_module_version": "1.2.0",
            "bar_color": null,
            "_model_module": "@jupyter-widgets/controls"
          }
        },
        "901acea51fde4bcfa00dd7449a109020": {
          "model_module": "@jupyter-widgets/base",
          "model_name": "LayoutModel",
          "state": {
            "_view_name": "LayoutView",
            "grid_template_rows": null,
            "right": null,
            "justify_content": null,
            "_view_module": "@jupyter-widgets/base",
            "overflow": null,
            "_model_module_version": "1.2.0",
            "_view_count": null,
            "flex_flow": null,
            "width": null,
            "min_width": null,
            "border": null,
            "align_items": null,
            "bottom": null,
            "_model_module": "@jupyter-widgets/base",
            "top": null,
            "grid_column": null,
            "overflow_y": null,
            "overflow_x": null,
            "grid_auto_flow": null,
            "grid_area": null,
            "grid_template_columns": null,
            "flex": null,
            "_model_name": "LayoutModel",
            "justify_items": null,
            "grid_row": null,
            "max_height": null,
            "align_content": null,
            "visibility": null,
            "align_self": null,
            "height": null,
            "min_height": null,
            "padding": null,
            "grid_auto_rows": null,
            "grid_gap": null,
            "max_width": null,
            "order": null,
            "_view_module_version": "1.2.0",
            "grid_template_areas": null,
            "object_position": null,
            "object_fit": null,
            "grid_auto_columns": null,
            "margin": null,
            "display": null,
            "left": null
          }
        },
        "63bf772257de4b159098b9a1a27e9151": {
          "model_module": "@jupyter-widgets/controls",
          "model_name": "DescriptionStyleModel",
          "state": {
            "_view_name": "StyleView",
            "_model_name": "DescriptionStyleModel",
            "description_width": "",
            "_view_module": "@jupyter-widgets/base",
            "_model_module_version": "1.5.0",
            "_view_count": null,
            "_view_module_version": "1.2.0",
            "_model_module": "@jupyter-widgets/controls"
          }
        },
        "5df6bab02cd242588db9fdd414f684e0": {
          "model_module": "@jupyter-widgets/base",
          "model_name": "LayoutModel",
          "state": {
            "_view_name": "LayoutView",
            "grid_template_rows": null,
            "right": null,
            "justify_content": null,
            "_view_module": "@jupyter-widgets/base",
            "overflow": null,
            "_model_module_version": "1.2.0",
            "_view_count": null,
            "flex_flow": null,
            "width": null,
            "min_width": null,
            "border": null,
            "align_items": null,
            "bottom": null,
            "_model_module": "@jupyter-widgets/base",
            "top": null,
            "grid_column": null,
            "overflow_y": null,
            "overflow_x": null,
            "grid_auto_flow": null,
            "grid_area": null,
            "grid_template_columns": null,
            "flex": null,
            "_model_name": "LayoutModel",
            "justify_items": null,
            "grid_row": null,
            "max_height": null,
            "align_content": null,
            "visibility": null,
            "align_self": null,
            "height": null,
            "min_height": null,
            "padding": null,
            "grid_auto_rows": null,
            "grid_gap": null,
            "max_width": null,
            "order": null,
            "_view_module_version": "1.2.0",
            "grid_template_areas": null,
            "object_position": null,
            "object_fit": null,
            "grid_auto_columns": null,
            "margin": null,
            "display": null,
            "left": null
          }
        },
        "8d6ab003b3e74105a9e8dd85c26e4352": {
          "model_module": "@jupyter-widgets/controls",
          "model_name": "HBoxModel",
          "state": {
            "_view_name": "HBoxView",
            "_dom_classes": [],
            "_model_name": "HBoxModel",
            "_view_module": "@jupyter-widgets/controls",
            "_model_module_version": "1.5.0",
            "_view_count": null,
            "_view_module_version": "1.5.0",
            "box_style": "",
            "layout": "IPY_MODEL_eaa80071cdb5449fbb11defc0a1cebff",
            "_model_module": "@jupyter-widgets/controls",
            "children": [
              "IPY_MODEL_075d3fcb87334cb2959462064a0165c0",
              "IPY_MODEL_16009825d3e341aba956a844bee953f1"
            ]
          }
        },
        "eaa80071cdb5449fbb11defc0a1cebff": {
          "model_module": "@jupyter-widgets/base",
          "model_name": "LayoutModel",
          "state": {
            "_view_name": "LayoutView",
            "grid_template_rows": null,
            "right": null,
            "justify_content": null,
            "_view_module": "@jupyter-widgets/base",
            "overflow": null,
            "_model_module_version": "1.2.0",
            "_view_count": null,
            "flex_flow": null,
            "width": null,
            "min_width": null,
            "border": null,
            "align_items": null,
            "bottom": null,
            "_model_module": "@jupyter-widgets/base",
            "top": null,
            "grid_column": null,
            "overflow_y": null,
            "overflow_x": null,
            "grid_auto_flow": null,
            "grid_area": null,
            "grid_template_columns": null,
            "flex": null,
            "_model_name": "LayoutModel",
            "justify_items": null,
            "grid_row": null,
            "max_height": null,
            "align_content": null,
            "visibility": null,
            "align_self": null,
            "height": null,
            "min_height": null,
            "padding": null,
            "grid_auto_rows": null,
            "grid_gap": null,
            "max_width": null,
            "order": null,
            "_view_module_version": "1.2.0",
            "grid_template_areas": null,
            "object_position": null,
            "object_fit": null,
            "grid_auto_columns": null,
            "margin": null,
            "display": null,
            "left": null
          }
        },
        "075d3fcb87334cb2959462064a0165c0": {
          "model_module": "@jupyter-widgets/controls",
          "model_name": "FloatProgressModel",
          "state": {
            "_view_name": "ProgressView",
            "style": "IPY_MODEL_da37e28d7eeb4f6ea643ee45ced040ff",
            "_dom_classes": [],
            "description": "100%",
            "_model_name": "FloatProgressModel",
            "bar_style": "success",
            "max": 6,
            "_view_module": "@jupyter-widgets/controls",
            "_model_module_version": "1.5.0",
            "value": 6,
            "_view_count": null,
            "_view_module_version": "1.5.0",
            "orientation": "horizontal",
            "min": 0,
            "description_tooltip": null,
            "_model_module": "@jupyter-widgets/controls",
            "layout": "IPY_MODEL_5f0f76dac0d4440e94f9c19efa0ceeb6"
          }
        },
        "16009825d3e341aba956a844bee953f1": {
          "model_module": "@jupyter-widgets/controls",
          "model_name": "HTMLModel",
          "state": {
            "_view_name": "HTMLView",
            "style": "IPY_MODEL_283f95919b1148efb4a55bf9a8d979a1",
            "_dom_classes": [],
            "description": "",
            "_model_name": "HTMLModel",
            "placeholder": "​",
            "_view_module": "@jupyter-widgets/controls",
            "_model_module_version": "1.5.0",
            "value": " 6/6 [1:40:43&lt;00:00, 1007.26s/it]",
            "_view_count": null,
            "_view_module_version": "1.5.0",
            "description_tooltip": null,
            "_model_module": "@jupyter-widgets/controls",
            "layout": "IPY_MODEL_72fc7515a3fe47c398f100e7ecd5fc80"
          }
        },
        "da37e28d7eeb4f6ea643ee45ced040ff": {
          "model_module": "@jupyter-widgets/controls",
          "model_name": "ProgressStyleModel",
          "state": {
            "_view_name": "StyleView",
            "_model_name": "ProgressStyleModel",
            "description_width": "initial",
            "_view_module": "@jupyter-widgets/base",
            "_model_module_version": "1.5.0",
            "_view_count": null,
            "_view_module_version": "1.2.0",
            "bar_color": null,
            "_model_module": "@jupyter-widgets/controls"
          }
        },
        "5f0f76dac0d4440e94f9c19efa0ceeb6": {
          "model_module": "@jupyter-widgets/base",
          "model_name": "LayoutModel",
          "state": {
            "_view_name": "LayoutView",
            "grid_template_rows": null,
            "right": null,
            "justify_content": null,
            "_view_module": "@jupyter-widgets/base",
            "overflow": null,
            "_model_module_version": "1.2.0",
            "_view_count": null,
            "flex_flow": null,
            "width": null,
            "min_width": null,
            "border": null,
            "align_items": null,
            "bottom": null,
            "_model_module": "@jupyter-widgets/base",
            "top": null,
            "grid_column": null,
            "overflow_y": null,
            "overflow_x": null,
            "grid_auto_flow": null,
            "grid_area": null,
            "grid_template_columns": null,
            "flex": null,
            "_model_name": "LayoutModel",
            "justify_items": null,
            "grid_row": null,
            "max_height": null,
            "align_content": null,
            "visibility": null,
            "align_self": null,
            "height": null,
            "min_height": null,
            "padding": null,
            "grid_auto_rows": null,
            "grid_gap": null,
            "max_width": null,
            "order": null,
            "_view_module_version": "1.2.0",
            "grid_template_areas": null,
            "object_position": null,
            "object_fit": null,
            "grid_auto_columns": null,
            "margin": null,
            "display": null,
            "left": null
          }
        },
        "283f95919b1148efb4a55bf9a8d979a1": {
          "model_module": "@jupyter-widgets/controls",
          "model_name": "DescriptionStyleModel",
          "state": {
            "_view_name": "StyleView",
            "_model_name": "DescriptionStyleModel",
            "description_width": "",
            "_view_module": "@jupyter-widgets/base",
            "_model_module_version": "1.5.0",
            "_view_count": null,
            "_view_module_version": "1.2.0",
            "_model_module": "@jupyter-widgets/controls"
          }
        },
        "72fc7515a3fe47c398f100e7ecd5fc80": {
          "model_module": "@jupyter-widgets/base",
          "model_name": "LayoutModel",
          "state": {
            "_view_name": "LayoutView",
            "grid_template_rows": null,
            "right": null,
            "justify_content": null,
            "_view_module": "@jupyter-widgets/base",
            "overflow": null,
            "_model_module_version": "1.2.0",
            "_view_count": null,
            "flex_flow": null,
            "width": null,
            "min_width": null,
            "border": null,
            "align_items": null,
            "bottom": null,
            "_model_module": "@jupyter-widgets/base",
            "top": null,
            "grid_column": null,
            "overflow_y": null,
            "overflow_x": null,
            "grid_auto_flow": null,
            "grid_area": null,
            "grid_template_columns": null,
            "flex": null,
            "_model_name": "LayoutModel",
            "justify_items": null,
            "grid_row": null,
            "max_height": null,
            "align_content": null,
            "visibility": null,
            "align_self": null,
            "height": null,
            "min_height": null,
            "padding": null,
            "grid_auto_rows": null,
            "grid_gap": null,
            "max_width": null,
            "order": null,
            "_view_module_version": "1.2.0",
            "grid_template_areas": null,
            "object_position": null,
            "object_fit": null,
            "grid_auto_columns": null,
            "margin": null,
            "display": null,
            "left": null
          }
        },
        "a325aa14d0774a22a2eaef781e2276a3": {
          "model_module": "@jupyter-widgets/controls",
          "model_name": "HBoxModel",
          "state": {
            "_view_name": "HBoxView",
            "_dom_classes": [],
            "_model_name": "HBoxModel",
            "_view_module": "@jupyter-widgets/controls",
            "_model_module_version": "1.5.0",
            "_view_count": null,
            "_view_module_version": "1.5.0",
            "box_style": "",
            "layout": "IPY_MODEL_35df08941bcc4cf9bd98999954077ea3",
            "_model_module": "@jupyter-widgets/controls",
            "children": [
              "IPY_MODEL_52edac71821e46ddb86c69bd0ee80db6",
              "IPY_MODEL_c3831289446e4aa6a40be0678b86f401"
            ]
          }
        },
        "35df08941bcc4cf9bd98999954077ea3": {
          "model_module": "@jupyter-widgets/base",
          "model_name": "LayoutModel",
          "state": {
            "_view_name": "LayoutView",
            "grid_template_rows": null,
            "right": null,
            "justify_content": null,
            "_view_module": "@jupyter-widgets/base",
            "overflow": null,
            "_model_module_version": "1.2.0",
            "_view_count": null,
            "flex_flow": null,
            "width": null,
            "min_width": null,
            "border": null,
            "align_items": null,
            "bottom": null,
            "_model_module": "@jupyter-widgets/base",
            "top": null,
            "grid_column": null,
            "overflow_y": null,
            "overflow_x": null,
            "grid_auto_flow": null,
            "grid_area": null,
            "grid_template_columns": null,
            "flex": null,
            "_model_name": "LayoutModel",
            "justify_items": null,
            "grid_row": null,
            "max_height": null,
            "align_content": null,
            "visibility": null,
            "align_self": null,
            "height": null,
            "min_height": null,
            "padding": null,
            "grid_auto_rows": null,
            "grid_gap": null,
            "max_width": null,
            "order": null,
            "_view_module_version": "1.2.0",
            "grid_template_areas": null,
            "object_position": null,
            "object_fit": null,
            "grid_auto_columns": null,
            "margin": null,
            "display": null,
            "left": null
          }
        },
        "52edac71821e46ddb86c69bd0ee80db6": {
          "model_module": "@jupyter-widgets/controls",
          "model_name": "FloatProgressModel",
          "state": {
            "_view_name": "ProgressView",
            "style": "IPY_MODEL_bd5a7e8027954404834c3177e4bce22f",
            "_dom_classes": [],
            "description": " 27%",
            "_model_name": "FloatProgressModel",
            "bar_style": "danger",
            "max": 3760,
            "_view_module": "@jupyter-widgets/controls",
            "_model_module_version": "1.5.0",
            "value": 1000,
            "_view_count": null,
            "_view_module_version": "1.5.0",
            "orientation": "horizontal",
            "min": 0,
            "description_tooltip": null,
            "_model_module": "@jupyter-widgets/controls",
            "layout": "IPY_MODEL_d978cd31126e4682acc26786dfd95c54"
          }
        },
        "c3831289446e4aa6a40be0678b86f401": {
          "model_module": "@jupyter-widgets/controls",
          "model_name": "HTMLModel",
          "state": {
            "_view_name": "HTMLView",
            "style": "IPY_MODEL_45a0c7ebd54346a68cda7ec9eabb7da9",
            "_dom_classes": [],
            "description": "",
            "_model_name": "HTMLModel",
            "placeholder": "​",
            "_view_module": "@jupyter-widgets/controls",
            "_model_module_version": "1.5.0",
            "value": " 1000/3760 [04:24&lt;12:21,  3.72it/s]",
            "_view_count": null,
            "_view_module_version": "1.5.0",
            "description_tooltip": null,
            "_model_module": "@jupyter-widgets/controls",
            "layout": "IPY_MODEL_11dbacf435e64978b71d479ceea0e556"
          }
        },
        "bd5a7e8027954404834c3177e4bce22f": {
          "model_module": "@jupyter-widgets/controls",
          "model_name": "ProgressStyleModel",
          "state": {
            "_view_name": "StyleView",
            "_model_name": "ProgressStyleModel",
            "description_width": "initial",
            "_view_module": "@jupyter-widgets/base",
            "_model_module_version": "1.5.0",
            "_view_count": null,
            "_view_module_version": "1.2.0",
            "bar_color": null,
            "_model_module": "@jupyter-widgets/controls"
          }
        },
        "d978cd31126e4682acc26786dfd95c54": {
          "model_module": "@jupyter-widgets/base",
          "model_name": "LayoutModel",
          "state": {
            "_view_name": "LayoutView",
            "grid_template_rows": null,
            "right": null,
            "justify_content": null,
            "_view_module": "@jupyter-widgets/base",
            "overflow": null,
            "_model_module_version": "1.2.0",
            "_view_count": null,
            "flex_flow": null,
            "width": null,
            "min_width": null,
            "border": null,
            "align_items": null,
            "bottom": null,
            "_model_module": "@jupyter-widgets/base",
            "top": null,
            "grid_column": null,
            "overflow_y": null,
            "overflow_x": null,
            "grid_auto_flow": null,
            "grid_area": null,
            "grid_template_columns": null,
            "flex": null,
            "_model_name": "LayoutModel",
            "justify_items": null,
            "grid_row": null,
            "max_height": null,
            "align_content": null,
            "visibility": null,
            "align_self": null,
            "height": null,
            "min_height": null,
            "padding": null,
            "grid_auto_rows": null,
            "grid_gap": null,
            "max_width": null,
            "order": null,
            "_view_module_version": "1.2.0",
            "grid_template_areas": null,
            "object_position": null,
            "object_fit": null,
            "grid_auto_columns": null,
            "margin": null,
            "display": null,
            "left": null
          }
        },
        "45a0c7ebd54346a68cda7ec9eabb7da9": {
          "model_module": "@jupyter-widgets/controls",
          "model_name": "DescriptionStyleModel",
          "state": {
            "_view_name": "StyleView",
            "_model_name": "DescriptionStyleModel",
            "description_width": "",
            "_view_module": "@jupyter-widgets/base",
            "_model_module_version": "1.5.0",
            "_view_count": null,
            "_view_module_version": "1.2.0",
            "_model_module": "@jupyter-widgets/controls"
          }
        },
        "11dbacf435e64978b71d479ceea0e556": {
          "model_module": "@jupyter-widgets/base",
          "model_name": "LayoutModel",
          "state": {
            "_view_name": "LayoutView",
            "grid_template_rows": null,
            "right": null,
            "justify_content": null,
            "_view_module": "@jupyter-widgets/base",
            "overflow": null,
            "_model_module_version": "1.2.0",
            "_view_count": null,
            "flex_flow": null,
            "width": null,
            "min_width": null,
            "border": null,
            "align_items": null,
            "bottom": null,
            "_model_module": "@jupyter-widgets/base",
            "top": null,
            "grid_column": null,
            "overflow_y": null,
            "overflow_x": null,
            "grid_auto_flow": null,
            "grid_area": null,
            "grid_template_columns": null,
            "flex": null,
            "_model_name": "LayoutModel",
            "justify_items": null,
            "grid_row": null,
            "max_height": null,
            "align_content": null,
            "visibility": null,
            "align_self": null,
            "height": null,
            "min_height": null,
            "padding": null,
            "grid_auto_rows": null,
            "grid_gap": null,
            "max_width": null,
            "order": null,
            "_view_module_version": "1.2.0",
            "grid_template_areas": null,
            "object_position": null,
            "object_fit": null,
            "grid_auto_columns": null,
            "margin": null,
            "display": null,
            "left": null
          }
        },
        "343c33f3671b4fbf9c1ccc5e15bd0a0f": {
          "model_module": "@jupyter-widgets/controls",
          "model_name": "HBoxModel",
          "state": {
            "_view_name": "HBoxView",
            "_dom_classes": [],
            "_model_name": "HBoxModel",
            "_view_module": "@jupyter-widgets/controls",
            "_model_module_version": "1.5.0",
            "_view_count": null,
            "_view_module_version": "1.5.0",
            "box_style": "",
            "layout": "IPY_MODEL_5e02089545ec40afba1e309fdc970683",
            "_model_module": "@jupyter-widgets/controls",
            "children": [
              "IPY_MODEL_783ef4767077432eabd1c9e76845f8e8",
              "IPY_MODEL_48daa207f725407ab2418d21d7e77a3d"
            ]
          }
        },
        "5e02089545ec40afba1e309fdc970683": {
          "model_module": "@jupyter-widgets/base",
          "model_name": "LayoutModel",
          "state": {
            "_view_name": "LayoutView",
            "grid_template_rows": null,
            "right": null,
            "justify_content": null,
            "_view_module": "@jupyter-widgets/base",
            "overflow": null,
            "_model_module_version": "1.2.0",
            "_view_count": null,
            "flex_flow": null,
            "width": null,
            "min_width": null,
            "border": null,
            "align_items": null,
            "bottom": null,
            "_model_module": "@jupyter-widgets/base",
            "top": null,
            "grid_column": null,
            "overflow_y": null,
            "overflow_x": null,
            "grid_auto_flow": null,
            "grid_area": null,
            "grid_template_columns": null,
            "flex": null,
            "_model_name": "LayoutModel",
            "justify_items": null,
            "grid_row": null,
            "max_height": null,
            "align_content": null,
            "visibility": null,
            "align_self": null,
            "height": null,
            "min_height": null,
            "padding": null,
            "grid_auto_rows": null,
            "grid_gap": null,
            "max_width": null,
            "order": null,
            "_view_module_version": "1.2.0",
            "grid_template_areas": null,
            "object_position": null,
            "object_fit": null,
            "grid_auto_columns": null,
            "margin": null,
            "display": null,
            "left": null
          }
        },
        "783ef4767077432eabd1c9e76845f8e8": {
          "model_module": "@jupyter-widgets/controls",
          "model_name": "FloatProgressModel",
          "state": {
            "_view_name": "ProgressView",
            "style": "IPY_MODEL_9509fecd36d4443081b8db0641feab4b",
            "_dom_classes": [],
            "description": "100%",
            "_model_name": "FloatProgressModel",
            "bar_style": "success",
            "max": 6,
            "_view_module": "@jupyter-widgets/controls",
            "_model_module_version": "1.5.0",
            "value": 6,
            "_view_count": null,
            "_view_module_version": "1.5.0",
            "orientation": "horizontal",
            "min": 0,
            "description_tooltip": null,
            "_model_module": "@jupyter-widgets/controls",
            "layout": "IPY_MODEL_9997dc16786a48a9979b65005b571fa5"
          }
        },
        "48daa207f725407ab2418d21d7e77a3d": {
          "model_module": "@jupyter-widgets/controls",
          "model_name": "HTMLModel",
          "state": {
            "_view_name": "HTMLView",
            "style": "IPY_MODEL_3a0eccdce6994f48b0163b746788ef20",
            "_dom_classes": [],
            "description": "",
            "_model_name": "HTMLModel",
            "placeholder": "​",
            "_view_module": "@jupyter-widgets/controls",
            "_model_module_version": "1.5.0",
            "value": " 6/6 [04:01&lt;00:00, 40.28s/it]",
            "_view_count": null,
            "_view_module_version": "1.5.0",
            "description_tooltip": null,
            "_model_module": "@jupyter-widgets/controls",
            "layout": "IPY_MODEL_027178086e3d442cb703151c56570bbb"
          }
        },
        "9509fecd36d4443081b8db0641feab4b": {
          "model_module": "@jupyter-widgets/controls",
          "model_name": "ProgressStyleModel",
          "state": {
            "_view_name": "StyleView",
            "_model_name": "ProgressStyleModel",
            "description_width": "initial",
            "_view_module": "@jupyter-widgets/base",
            "_model_module_version": "1.5.0",
            "_view_count": null,
            "_view_module_version": "1.2.0",
            "bar_color": null,
            "_model_module": "@jupyter-widgets/controls"
          }
        },
        "9997dc16786a48a9979b65005b571fa5": {
          "model_module": "@jupyter-widgets/base",
          "model_name": "LayoutModel",
          "state": {
            "_view_name": "LayoutView",
            "grid_template_rows": null,
            "right": null,
            "justify_content": null,
            "_view_module": "@jupyter-widgets/base",
            "overflow": null,
            "_model_module_version": "1.2.0",
            "_view_count": null,
            "flex_flow": null,
            "width": null,
            "min_width": null,
            "border": null,
            "align_items": null,
            "bottom": null,
            "_model_module": "@jupyter-widgets/base",
            "top": null,
            "grid_column": null,
            "overflow_y": null,
            "overflow_x": null,
            "grid_auto_flow": null,
            "grid_area": null,
            "grid_template_columns": null,
            "flex": null,
            "_model_name": "LayoutModel",
            "justify_items": null,
            "grid_row": null,
            "max_height": null,
            "align_content": null,
            "visibility": null,
            "align_self": null,
            "height": null,
            "min_height": null,
            "padding": null,
            "grid_auto_rows": null,
            "grid_gap": null,
            "max_width": null,
            "order": null,
            "_view_module_version": "1.2.0",
            "grid_template_areas": null,
            "object_position": null,
            "object_fit": null,
            "grid_auto_columns": null,
            "margin": null,
            "display": null,
            "left": null
          }
        },
        "3a0eccdce6994f48b0163b746788ef20": {
          "model_module": "@jupyter-widgets/controls",
          "model_name": "DescriptionStyleModel",
          "state": {
            "_view_name": "StyleView",
            "_model_name": "DescriptionStyleModel",
            "description_width": "",
            "_view_module": "@jupyter-widgets/base",
            "_model_module_version": "1.5.0",
            "_view_count": null,
            "_view_module_version": "1.2.0",
            "_model_module": "@jupyter-widgets/controls"
          }
        },
        "027178086e3d442cb703151c56570bbb": {
          "model_module": "@jupyter-widgets/base",
          "model_name": "LayoutModel",
          "state": {
            "_view_name": "LayoutView",
            "grid_template_rows": null,
            "right": null,
            "justify_content": null,
            "_view_module": "@jupyter-widgets/base",
            "overflow": null,
            "_model_module_version": "1.2.0",
            "_view_count": null,
            "flex_flow": null,
            "width": null,
            "min_width": null,
            "border": null,
            "align_items": null,
            "bottom": null,
            "_model_module": "@jupyter-widgets/base",
            "top": null,
            "grid_column": null,
            "overflow_y": null,
            "overflow_x": null,
            "grid_auto_flow": null,
            "grid_area": null,
            "grid_template_columns": null,
            "flex": null,
            "_model_name": "LayoutModel",
            "justify_items": null,
            "grid_row": null,
            "max_height": null,
            "align_content": null,
            "visibility": null,
            "align_self": null,
            "height": null,
            "min_height": null,
            "padding": null,
            "grid_auto_rows": null,
            "grid_gap": null,
            "max_width": null,
            "order": null,
            "_view_module_version": "1.2.0",
            "grid_template_areas": null,
            "object_position": null,
            "object_fit": null,
            "grid_auto_columns": null,
            "margin": null,
            "display": null,
            "left": null
          }
        }
      }
    }
  },
  "cells": [
    {
      "cell_type": "markdown",
      "metadata": {
        "id": "Ot3c4fjZwC4T"
      },
      "source": [
        "<img src=\"https://s8.hostingkartinok.com/uploads/images/2018/08/308b49fcfbc619d629fe4604bceb67ac.jpg\" width=500, height=450>\n",
        "<h3 style=\"text-align: center;\"><b>Физтех-Школа Прикладной математики и информатики (ФПМИ) МФТИ</b></h3>"
      ]
    },
    {
      "cell_type": "markdown",
      "metadata": {
        "id": "P2JdzEXmwRU5"
      },
      "source": [
        "---"
      ]
    },
    {
      "cell_type": "markdown",
      "metadata": {
        "id": "Fc8iHXIVwDwj"
      },
      "source": [
        "***Some parts of the notebook are almost the copy of [ mmta-team course](https://github.com/mmta-team/mmta_fall_2020). Special thanks to mmta-team for making them publicly available. [Original notebook](https://github.com/mmta-team/mmta_fall_2020/blob/master/tasks/01_word_embeddings/task_word_embeddings.ipynb).***"
      ]
    },
    {
      "cell_type": "markdown",
      "metadata": {
        "id": "7D0wm5jt6j0U"
      },
      "source": [
        "<b> Прочитайте семинар, пожалуйста, для успешного выполнения домашнего задания. В конце ноутка напишите свой вывод. Работа без вывода оценивается ниже."
      ]
    },
    {
      "cell_type": "markdown",
      "metadata": {
        "id": "BIWqBuEa6j0b"
      },
      "source": [
        "## Задача поиска схожих по смыслу предложений"
      ]
    },
    {
      "cell_type": "markdown",
      "metadata": {
        "id": "NUkwMPLA6j0g"
      },
      "source": [
        "Мы будем ранжировать вопросы [StackOverflow](https://stackoverflow.com) на основе семантического векторного представления "
      ]
    },
    {
      "cell_type": "markdown",
      "metadata": {
        "id": "dNRXIEfu5a3Q"
      },
      "source": [
        "До этого в курсе не было речи про задачу ранжировния, поэтому введем математическую формулировку"
      ]
    },
    {
      "cell_type": "markdown",
      "metadata": {
        "id": "uS9FwWNd5a3S"
      },
      "source": [
        "## Задача ранжирования(Learning to Rank)"
      ]
    },
    {
      "cell_type": "markdown",
      "metadata": {
        "id": "wdwY9-f75a3T"
      },
      "source": [
        "* $X$ - множество объектов\n",
        "* $X^l = \\{x_1, x_2, ..., x_l\\}$ - обучающая выборка\n",
        "<br>На обучающей выборке задан порядок между некоторыми элементами, то есть нам известно, что некий объект выборки более релевантный для нас, чем другой:\n",
        "* $i \\prec j$ - порядок пары индексов объектов на выборке $X^l$ c индексами $i$ и $j$\n",
        "### Задача:\n",
        "построить ранжирующую функцию $a$ : $X \\rightarrow R$ такую, что\n",
        "$$i \\prec j \\Rightarrow a(x_i) < a(x_j)$$"
      ]
    },
    {
      "cell_type": "markdown",
      "metadata": {
        "id": "WG2IGBsh5a3U"
      },
      "source": [
        "<img src=\"https://d25skit2l41vkl.cloudfront.net/wp-content/uploads/2016/12/Featured-Image.jpg\" width=500, height=450>"
      ]
    },
    {
      "cell_type": "markdown",
      "metadata": {
        "id": "MQk_rolFwT_h"
      },
      "source": [
        "### Embeddings"
      ]
    },
    {
      "cell_type": "markdown",
      "metadata": {
        "id": "xUe1PGXn6j0l"
      },
      "source": [
        "Будем использовать предобученные векторные представления слов на постах Stack Overflow.<br>\n",
        "[A word2vec model trained on Stack Overflow posts](https://github.com/vefstathiou/SO_word2vec)"
      ]
    },
    {
      "cell_type": "code",
      "metadata": {
        "id": "mYkI54Y-rk7a",
        "colab": {
          "base_uri": "https://localhost:8080/"
        },
        "outputId": "a8c611a9-4415-40b0-b740-3b9ff6188c88"
      },
      "source": [
        "!wget https://zenodo.org/record/1199620/files/SO_vectors_200.bin?download=1"
      ],
      "execution_count": null,
      "outputs": [
        {
          "output_type": "stream",
          "text": [
            "--2021-02-25 20:47:25--  https://zenodo.org/record/1199620/files/SO_vectors_200.bin?download=1\n",
            "Resolving zenodo.org (zenodo.org)... 137.138.76.77\n",
            "Connecting to zenodo.org (zenodo.org)|137.138.76.77|:443... connected.\n",
            "HTTP request sent, awaiting response... 200 OK\n",
            "Length: 1453905423 (1.4G) [application/octet-stream]\n",
            "Saving to: ‘SO_vectors_200.bin?download=1.1’\n",
            "\n",
            "SO_vectors_200.bin? 100%[===================>]   1.35G  6.46MB/s    in 2m 35s  \n",
            "\n",
            "2021-02-25 20:50:01 (8.96 MB/s) - ‘SO_vectors_200.bin?download=1.1’ saved [1453905423/1453905423]\n",
            "\n"
          ],
          "name": "stdout"
        }
      ]
    },
    {
      "cell_type": "code",
      "metadata": {
        "id": "O8YJTOYv6j0s"
      },
      "source": [
        "from gensim.models.keyedvectors import KeyedVectors\n",
        "wv_embeddings = KeyedVectors.load_word2vec_format(\"SO_vectors_200.bin?download=1\", binary=True)"
      ],
      "execution_count": null,
      "outputs": []
    },
    {
      "cell_type": "markdown",
      "metadata": {
        "id": "aIcT_g-C6j1E"
      },
      "source": [
        "#### Как пользоваться этими векторами?"
      ]
    },
    {
      "cell_type": "markdown",
      "metadata": {
        "id": "DWO5SPDY6j1G"
      },
      "source": [
        "Посмотрим на примере одного слова, что из себя представляет embedding"
      ]
    },
    {
      "cell_type": "code",
      "metadata": {
        "scrolled": true,
        "id": "KeSBlQfk6j1J",
        "colab": {
          "base_uri": "https://localhost:8080/"
        },
        "outputId": "e9452a81-5727-4ec7-c6ae-1184d463b2aa"
      },
      "source": [
        "word = 'dog'\n",
        "if word in wv_embeddings:\n",
        "    print(wv_embeddings[word].dtype, wv_embeddings[word].shape)"
      ],
      "execution_count": null,
      "outputs": [
        {
          "output_type": "stream",
          "text": [
            "float32 (200,)\n"
          ],
          "name": "stdout"
        }
      ]
    },
    {
      "cell_type": "code",
      "metadata": {
        "id": "T4Eq-D1qxpMJ",
        "colab": {
          "base_uri": "https://localhost:8080/"
        },
        "outputId": "f81246a6-da26-4fbe-8682-31af868b174e"
      },
      "source": [
        "print(f\"Num of words: {len(wv_embeddings.index2word)}\")"
      ],
      "execution_count": null,
      "outputs": [
        {
          "output_type": "stream",
          "text": [
            "Num of words: 1787145\n"
          ],
          "name": "stdout"
        }
      ]
    },
    {
      "cell_type": "markdown",
      "metadata": {
        "id": "ZT6NTCys6j1Q"
      },
      "source": [
        "Найдем наиболее близкие слова к слову `dog`:"
      ]
    },
    {
      "cell_type": "markdown",
      "metadata": {
        "id": "n08z2PjMwC5o"
      },
      "source": [
        "#### Вопрос 1:\n",
        "* Входит ли слов `cat` топ-5 близких слов к слову `dog`? Какое место? "
      ]
    },
    {
      "cell_type": "code",
      "metadata": {
        "scrolled": true,
        "id": "nYwVz0xG6j1U",
        "colab": {
          "base_uri": "https://localhost:8080/"
        },
        "outputId": "6d06d957-2c50-4dae-8827-b958388b0c50"
      },
      "source": [
        "# method most_simmilar\n",
        "wv_embeddings.most_similar(positive=['dog'], topn=5) # "
      ],
      "execution_count": null,
      "outputs": [
        {
          "output_type": "execute_result",
          "data": {
            "text/plain": [
              "[('animal', 0.8564180135726929),\n",
              " ('dogs', 0.7880867123603821),\n",
              " ('mammal', 0.7623804807662964),\n",
              " ('cats', 0.7621253728866577),\n",
              " ('animals', 0.760793924331665)]"
            ]
          },
          "metadata": {
            "tags": []
          },
          "execution_count": 58
        }
      ]
    },
    {
      "cell_type": "markdown",
      "metadata": {
        "id": "ai48-5vv6j1d"
      },
      "source": [
        "### Векторные представления текста\n",
        "\n",
        "Перейдем от векторных представлений отдельных слов к векторным представлениям вопросов, как к **среднему** векторов всех слов в вопросе. Если для какого-то слова нет предобученного вектора, то его нужно пропустить. Если вопрос не содержит ни одного известного слова, то нужно вернуть нулевой вектор."
      ]
    },
    {
      "cell_type": "code",
      "metadata": {
        "id": "EhNuxBJd6j1f"
      },
      "source": [
        "import numpy as np\n",
        "import re\n",
        "from nltk.tokenize import WordPunctTokenizer\n",
        "# you can use your tokenizer\n",
        "# for example, from nltk.tokenize import WordPunctTokenizer\n",
        "class MyTokenizer:\n",
        "    def __init__(self):\n",
        "        pass\n",
        "    def tokenize(self, text):\n",
        "        return re.findall('\\w+', text)\n",
        "from nltk.tokenize import RegexpTokenizer\n",
        "tokenizer_v1 = WordPunctTokenizer()\n",
        "tokenizer_v2 = RegexpTokenizer(r'\\w+')"
      ],
      "execution_count": null,
      "outputs": []
    },
    {
      "cell_type": "code",
      "metadata": {
        "id": "YHcvu6186j1m"
      },
      "source": [
        "from sklearn.feature_extraction.text import TfidfVectorizer\n",
        "\n",
        "def question_to_vec(question, embeddings, tokenizer, dim=200):\n",
        "    \"\"\"\n",
        "        question: строка\n",
        "        embeddings: наше векторное представление\n",
        "        dim: размер любого вектора в нашем представлении\n",
        "        \n",
        "        return: векторное представление для вопроса\n",
        "    \"\"\"\n",
        "    z = np.zeros(dim)\n",
        "    count = 0\n",
        "    tokenize_string = tokenizer.tokenize(question)\n",
        "    for i in range(len(tokenize_string)):\n",
        "      if tokenize_string[i] in embeddings:\n",
        "        z += embeddings.get_vector(tokenize_string[i])\n",
        "        count += 1\n",
        "        # z.append(wv_embeddings.get_vector(tokenize_string[i]))\n",
        "    # s = np.zeros(200)\n",
        "    # for i in range(len(sum)):\n",
        "    #   s += sum[i]\n",
        "    if count != 0:\n",
        "        z = z / count\n",
        "    return z #s/len(sum) #np.average(sum, axis=1)\n",
        "    '''your code'''"
      ],
      "execution_count": null,
      "outputs": []
    },
    {
      "cell_type": "markdown",
      "metadata": {
        "id": "u5Q_4j7r6j1u"
      },
      "source": [
        "Теперь у нас есть метод для создания векторного представления любого предложения."
      ]
    },
    {
      "cell_type": "markdown",
      "metadata": {
        "id": "EsJSNkhm6j1y"
      },
      "source": [
        "#### Вопрос 2:\n",
        "* Какая третья(с индексом 2) компонента вектора предложения `I love neural networks` (округлите до 2 знаков после запятой)?"
      ]
    },
    {
      "cell_type": "code",
      "metadata": {
        "scrolled": true,
        "id": "a62r11cT6j10",
        "colab": {
          "base_uri": "https://localhost:8080/"
        },
        "outputId": "cf919486-78dc-4a5d-a032-9fdfa663ec05"
      },
      "source": [
        "Z = question_to_vec('I love neural networks', wv_embeddings, tokenizer_v1)\r\n",
        "print(round(Z[2], 2))"
      ],
      "execution_count": null,
      "outputs": [
        {
          "output_type": "stream",
          "text": [
            "-1.29\n"
          ],
          "name": "stdout"
        }
      ]
    },
    {
      "cell_type": "markdown",
      "metadata": {
        "id": "Y60z4t6W6j16"
      },
      "source": [
        "### Оценка близости текстов\n",
        "\n",
        "Представим, что мы используем идеальные векторные представления слов. Тогда косинусное расстояние между дублирующими предложениями должно быть меньше, чем между случайно взятыми предложениями. \n",
        "\n",
        "Сгенерируем для каждого из $N$ вопросов $R$ случайных отрицательных примеров и примешаем к ним также настоящие дубликаты. Для каждого вопроса будем ранжировать с помощью нашей модели $R + 1$ примеров и смотреть на позицию дубликата. Мы хотим, чтобы дубликат был первым в ранжированном списке.\n",
        "\n",
        "#### Hits@K\n",
        "Первой простой метрикой будет количество корректных попаданий для какого-то $K$:\n",
        "$$ \\text{Hits@K} = \\frac{1}{N}\\sum_{i=1}^N \\, [rank\\_q_i^{'} \\le K],$$\n",
        "* $\\begin{equation*}\n",
        "[x < 0 ] \\equiv \n",
        " \\begin{cases}\n",
        "   1, &x < 0\\\\\n",
        "   0, &x \\geq 0\n",
        " \\end{cases}\n",
        "\\end{equation*}$ - индикаторная функция\n",
        "* $q_i$ - $i$-ый вопрос\n",
        "* $q_i^{'}$ - его дубликат\n",
        "* $rank\\_q_i^{'}$ - позиция дубликата в ранжированном списке ближайших предложений для вопроса $q_i$.\n",
        "\n",
        "#### DCG@K\n",
        "Второй метрикой будет упрощенная DCG метрика, учитывающая порядок элементов в списке путем домножения релевантности элемента на вес равный обратному логарифму номера позиции::\n",
        "$$ \\text{DCG@K} = \\frac{1}{N} \\sum_{i=1}^N\\frac{1}{\\log_2(1+rank\\_q_i^{'})}\\cdot[rank\\_q_i^{'} \\le K],$$\n",
        "С такой метрикой модель штрафуется за большой ранк корректного ответа"
      ]
    },
    {
      "cell_type": "markdown",
      "metadata": {
        "id": "eHCnH-jw6j18"
      },
      "source": [
        "#### Вопрос 3:\n",
        "* Максимум `Hits@47 - DCG@1`?"
      ]
    },
    {
      "cell_type": "markdown",
      "metadata": {
        "id": "TyBzoCyV_Wp-"
      },
      "source": [
        "Максимум Hits@47 - DCG@1 = 1 - 0 = 1"
      ]
    },
    {
      "cell_type": "markdown",
      "metadata": {
        "id": "_tFemBkP6j1-"
      },
      "source": [
        "<img src='https://hsto.org/files/1c5/edf/dee/1c5edfdeebce4b71a86bdf986d9f88f2.jpg' width=400, height=200>"
      ]
    },
    {
      "cell_type": "markdown",
      "metadata": {
        "id": "0sUSxk866j1_"
      },
      "source": [
        "#### Пример оценок\n",
        "\n",
        "Вычислим описанные выше метрики для игрушечного примера. \n",
        "Пусть\n",
        "* $N = 1$, $R = 3$\n",
        "* <font color='green'>\"Что такое python?\"</font> - вопрос $q_1$\n",
        "* <font color='red'>\"Что такое язык python?\"</font> - его дубликат $q_i^{'}$\n",
        "\n",
        "Пусть модель выдала следующий ранжированный список кандидатов:\n",
        "\n",
        "1. \"Как изучить с++?\"\n",
        "2. <font color='red'>\"Что такое язык python?\"</font>\n",
        "3. \"Хочу учить Java\"\n",
        "4. \"Не понимаю Tensorflow\"\n",
        "\n",
        "$\\Rightarrow rank\\_q_i^{'} = 2$\n",
        "\n",
        "Вычислим метрику *Hits@K* для *K = 1, 4*:\n",
        "\n",
        "- [K = 1] $\\text{Hits@1} =  [rank\\_q_i^{'} \\le 1)] = 0$\n",
        "- [K = 4] $\\text{Hits@4} =  [rank\\_q_i^{'} \\le 4] = 1$\n",
        "\n",
        "Вычислим метрику *DCG@K* для *K = 1, 4*:\n",
        "- [K = 1] $\\text{DCG@1} = \\frac{1}{\\log_2(1+2)}\\cdot[2 \\le 1] = 0$\n",
        "- [K = 4] $\\text{DCG@4} = \\frac{1}{\\log_2(1+2)}\\cdot[2 \\le 4] = \\frac{1}{\\log_2{3}}$"
      ]
    },
    {
      "cell_type": "markdown",
      "metadata": {
        "id": "B4L6HJJC6j2B"
      },
      "source": [
        "#### Вопрос 4:\n",
        "* Вычислите `DCG@10`, если $rank\\_q_i^{'} = 9$(округлите до одного знака после запятой)"
      ]
    },
    {
      "cell_type": "code",
      "metadata": {
        "colab": {
          "base_uri": "https://localhost:8080/"
        },
        "id": "gxHgNldGAINb",
        "outputId": "68aab307-9a8c-4164-d0c7-e2ed4ea52acf"
      },
      "source": [
        "import math\r\n",
        "DCG = 1/math.log(1 + 9, 2)\r\n",
        "print(round(DCG, 1))"
      ],
      "execution_count": null,
      "outputs": [
        {
          "output_type": "stream",
          "text": [
            "0.3\n"
          ],
          "name": "stdout"
        }
      ]
    },
    {
      "cell_type": "markdown",
      "metadata": {
        "id": "J5xWOORI6j2F"
      },
      "source": [
        "### HITS\\_COUNT и DCG\\_SCORE"
      ]
    },
    {
      "cell_type": "markdown",
      "metadata": {
        "id": "I1q9WQOx6j2H"
      },
      "source": [
        "Каждая функция имеет два аргумента: $dup\\_ranks$ и $k$. $dup\\_ranks$ является списком, который содержит рейтинги дубликатов(их позиции в ранжированном списке). Например, $dup\\_ranks = [2]$ для примера, описанного выше."
      ]
    },
    {
      "cell_type": "code",
      "metadata": {
        "id": "F5VwySUB6j2J"
      },
      "source": [
        "def hits_count(dup_ranks, k):\n",
        "    \"\"\"\n",
        "        dup_ranks: list индексов дубликатов\n",
        "        result: вернуть  Hits@k\n",
        "    \"\"\"\n",
        "    N = len(dup_ranks)\n",
        "    sum = 0\n",
        "    for i in range(N):\n",
        "        x = dup_ranks[i] <= k\n",
        "        sum += int(x)\n",
        "    hits_value = sum / N\n",
        "    # v_rngs = (dup_ranks <= k).int()\n",
        "    # hits_value = mean(v_rngs)\n",
        "    return hits_value    "
      ],
      "execution_count": null,
      "outputs": []
    },
    {
      "cell_type": "code",
      "metadata": {
        "id": "82hQaxCH6j2R"
      },
      "source": [
        "def dcg_score(dup_ranks, k):\n",
        "    \"\"\"\n",
        "        dup_ranks: list индексов дубликатов\n",
        "        result: вернуть DCG@k\n",
        "    \"\"\"\n",
        "    N = len(dup_ranks)\n",
        "    sum = 0\n",
        "    for i in range(N):\n",
        "        x = int((dup_ranks[i] <= k))\n",
        "        sum += x/math.log(1 + dup_ranks[i], 2)\n",
        "    dcg_value = sum / N\n",
        "    return dcg_value"
      ],
      "execution_count": null,
      "outputs": []
    },
    {
      "cell_type": "markdown",
      "metadata": {
        "id": "PcwHeXN26j2Y"
      },
      "source": [
        "Протестируем функции. Пусть $N = 1$, то есть один эксперимент. Будем искать копию вопроса и оценивать метрики."
      ]
    },
    {
      "cell_type": "code",
      "metadata": {
        "id": "fjISmOEW6j2h"
      },
      "source": [
        "import pandas as pd"
      ],
      "execution_count": null,
      "outputs": []
    },
    {
      "cell_type": "code",
      "metadata": {
        "id": "gLa_Wqfh6j2m",
        "colab": {
          "base_uri": "https://localhost:8080/"
        },
        "outputId": "b6bde60d-6bef-4743-99ea-156d24c416ee"
      },
      "source": [
        "copy_answers = [\"How does the catch keyword determine the type of exception that was thrown\",]\n",
        "\n",
        "# наги кандидаты\n",
        "candidates_ranking = [[\"How Can I Make These Links Rotate in PHP\",\n",
        "                       \"How does the catch keyword determine the type of exception that was thrown\",\n",
        "                       \"NSLog array description not memory address\",\n",
        "                       \"PECL_HTTP not recognised php ubuntu\"],]\n",
        "# dup_ranks — позиции наших копий, так как эксперимент один, то этот массив длины 1\n",
        "dup_ranks = [2]\n",
        "\n",
        "# вычисляем метрику для разных k\n",
        "print('Ваш ответ HIT:', [hits_count(dup_ranks, k) for k in range(1, 5)])\n",
        "print('Ваш ответ DCG:', [round(dcg_score(dup_ranks, k), 5) for k in range(1, 5)])"
      ],
      "execution_count": null,
      "outputs": [
        {
          "output_type": "stream",
          "text": [
            "Ваш ответ HIT: [0.0, 1.0, 1.0, 1.0]\n",
            "Ваш ответ DCG: [0.0, 0.63093, 0.63093, 0.63093]\n"
          ],
          "name": "stdout"
        }
      ]
    },
    {
      "cell_type": "markdown",
      "metadata": {
        "id": "MoHC3YoQ6j2t"
      },
      "source": [
        "У вас должно получиться"
      ]
    },
    {
      "cell_type": "code",
      "metadata": {
        "scrolled": true,
        "id": "B0NFWq4f6j2u",
        "colab": {
          "base_uri": "https://localhost:8080/",
          "height": 111
        },
        "outputId": "faa387eb-1986-4cb7-ac7e-8b8e14534eab"
      },
      "source": [
        "# correct_answers - метрика для разных k\n",
        "correct_answers = pd.DataFrame([[0, 1, 1, 1], [0, 1 / (np.log2(3)), 1 / (np.log2(3)), 1 / (np.log2(3))]],\n",
        "                               index=['HITS', 'DCG'], columns=range(1,5))\n",
        "correct_answers"
      ],
      "execution_count": null,
      "outputs": [
        {
          "output_type": "execute_result",
          "data": {
            "text/html": [
              "<div>\n",
              "<style scoped>\n",
              "    .dataframe tbody tr th:only-of-type {\n",
              "        vertical-align: middle;\n",
              "    }\n",
              "\n",
              "    .dataframe tbody tr th {\n",
              "        vertical-align: top;\n",
              "    }\n",
              "\n",
              "    .dataframe thead th {\n",
              "        text-align: right;\n",
              "    }\n",
              "</style>\n",
              "<table border=\"1\" class=\"dataframe\">\n",
              "  <thead>\n",
              "    <tr style=\"text-align: right;\">\n",
              "      <th></th>\n",
              "      <th>1</th>\n",
              "      <th>2</th>\n",
              "      <th>3</th>\n",
              "      <th>4</th>\n",
              "    </tr>\n",
              "  </thead>\n",
              "  <tbody>\n",
              "    <tr>\n",
              "      <th>HITS</th>\n",
              "      <td>0</td>\n",
              "      <td>1.00000</td>\n",
              "      <td>1.00000</td>\n",
              "      <td>1.00000</td>\n",
              "    </tr>\n",
              "    <tr>\n",
              "      <th>DCG</th>\n",
              "      <td>0</td>\n",
              "      <td>0.63093</td>\n",
              "      <td>0.63093</td>\n",
              "      <td>0.63093</td>\n",
              "    </tr>\n",
              "  </tbody>\n",
              "</table>\n",
              "</div>"
            ],
            "text/plain": [
              "      1        2        3        4\n",
              "HITS  0  1.00000  1.00000  1.00000\n",
              "DCG   0  0.63093  0.63093  0.63093"
            ]
          },
          "metadata": {
            "tags": []
          },
          "execution_count": 69
        }
      ]
    },
    {
      "cell_type": "markdown",
      "metadata": {
        "id": "tHZqgDTo6j0i"
      },
      "source": [
        "### Данные\n",
        "[arxiv link](https://drive.google.com/file/d/1QqT4D0EoqJTy7v9VrNCYD-m964XZFR7_/edit)\n",
        "\n",
        "`train.tsv` - выборка для обучения.<br> В каждой строке через табуляцию записаны: **<вопрос>, <похожий вопрос>**\n",
        "\n",
        "`validation.tsv` - тестовая выборка.<br> В каждой строке через табуляцию записаны: **<вопрос>, <похожий вопрос>, <отрицательный пример 1>, <отрицательный пример 2>, ...**"
      ]
    },
    {
      "cell_type": "code",
      "metadata": {
        "id": "jKVK2lDGvrIe",
        "colab": {
          "base_uri": "https://localhost:8080/"
        },
        "outputId": "f2da631b-4894-4e16-925b-0a906d416a81"
      },
      "source": [
        "!unzip stackoverflow_similar_questions.zip"
      ],
      "execution_count": null,
      "outputs": [
        {
          "output_type": "stream",
          "text": [
            "Archive:  stackoverflow_similar_questions.zip\n",
            "replace data/.DS_Store? [y]es, [n]o, [A]ll, [N]one, [r]ename: "
          ],
          "name": "stdout"
        }
      ]
    },
    {
      "cell_type": "markdown",
      "metadata": {
        "id": "hil2UsUG6j22"
      },
      "source": [
        "Считайте данные."
      ]
    },
    {
      "cell_type": "code",
      "metadata": {
        "colab": {
          "base_uri": "https://localhost:8080/"
        },
        "id": "O_BwmQ3SLHn6",
        "outputId": "ab74c618-bc94-4aa2-dba1-22396d17f7d2"
      },
      "source": [
        "!pip install -q pymorphy2\r\n",
        "import spacy\r\n",
        "nlp = spacy.load('en_core_web_sm')\r\n",
        "import nltk\r\n",
        "nltk.download('stopwords')\r\n",
        "from nltk.corpus import stopwords\r\n",
        "stopWords = set(stopwords.words('english'))"
      ],
      "execution_count": null,
      "outputs": [
        {
          "output_type": "stream",
          "text": [
            "[nltk_data] Downloading package stopwords to /root/nltk_data...\n",
            "[nltk_data]   Package stopwords is already up-to-date!\n"
          ],
          "name": "stdout"
        }
      ]
    },
    {
      "cell_type": "code",
      "metadata": {
        "id": "B4EBho8s6j26"
      },
      "source": [
        "def read_corpus(filename):\n",
        "    data = []\n",
        "    for line in open(filename, encoding='utf-8'):\n",
        "        data.append(line.strip().split('\\t'))\n",
        "    return data"
      ],
      "execution_count": null,
      "outputs": []
    },
    {
      "cell_type": "markdown",
      "metadata": {
        "id": "kkTxY3Mk9_nG"
      },
      "source": [
        "Нам понадобиться только файл validation."
      ]
    },
    {
      "cell_type": "code",
      "metadata": {
        "id": "PTVB9Tnp6j29"
      },
      "source": [
        "validation_data = read_corpus('./data/validation.tsv')"
      ],
      "execution_count": null,
      "outputs": []
    },
    {
      "cell_type": "code",
      "metadata": {
        "id": "Xpu40yjZuoM1"
      },
      "source": [
        "validation_data[1]"
      ],
      "execution_count": null,
      "outputs": []
    },
    {
      "cell_type": "markdown",
      "metadata": {
        "id": "bTHfL-9y6j3F"
      },
      "source": [
        "Кол-во строк"
      ]
    },
    {
      "cell_type": "code",
      "metadata": {
        "colab": {
          "base_uri": "https://localhost:8080/"
        },
        "id": "x_IMtinEJn5d",
        "outputId": "d2b0db71-9907-46d1-a4e1-d157160f867c"
      },
      "source": [
        "len(validation_data)"
      ],
      "execution_count": null,
      "outputs": [
        {
          "output_type": "execute_result",
          "data": {
            "text/plain": [
              "3760"
            ]
          },
          "metadata": {
            "tags": []
          },
          "execution_count": 74
        }
      ]
    },
    {
      "cell_type": "markdown",
      "metadata": {
        "id": "kaOQblBy6j3M"
      },
      "source": [
        "Размер нескольких первых строк"
      ]
    },
    {
      "cell_type": "code",
      "metadata": {
        "id": "yRx6e-Pe6j3M",
        "colab": {
          "base_uri": "https://localhost:8080/"
        },
        "outputId": "cb8c53f5-fb5e-4018-cbea-8ff3aa56fc83"
      },
      "source": [
        "for i in range(5):\n",
        "    print(i + 1, len(validation_data[i]))"
      ],
      "execution_count": null,
      "outputs": [
        {
          "output_type": "stream",
          "text": [
            "1 1001\n",
            "2 1001\n",
            "3 1001\n",
            "4 1001\n",
            "5 1001\n"
          ],
          "name": "stdout"
        }
      ]
    },
    {
      "cell_type": "markdown",
      "metadata": {
        "id": "ySQQp0oQt1Ep"
      },
      "source": [
        "### Ранжирование без обучения"
      ]
    },
    {
      "cell_type": "markdown",
      "metadata": {
        "id": "iElEDhj-6j3R"
      },
      "source": [
        "Реализуйте функцию ранжирования кандидатов на основе косинусного расстояния. Функция должна по списку кандидатов вернуть отсортированный список пар (позиция в исходном списке кандидатов, кандидат). При этом позиция кандидата в полученном списке является его рейтингом (первый - лучший). Например, если исходный список кандидатов был [a, b, c], и самый похожий на исходный вопрос среди них - c, затем a, и в конце b, то функция должна вернуть список **[(2, c), (0, a), (1, b)]**."
      ]
    },
    {
      "cell_type": "code",
      "metadata": {
        "id": "K02JARKr6j3T"
      },
      "source": [
        "from sklearn.metrics.pairwise import cosine_similarity\n",
        "from copy import deepcopy"
      ],
      "execution_count": null,
      "outputs": []
    },
    {
      "cell_type": "code",
      "metadata": {
        "id": "1yP8wJWj6j3X"
      },
      "source": [
        "def rank_candidates(question, candidates, embeddings, tokenizer, dim=200):\n",
        "    \"\"\"\n",
        "        question: строка\n",
        "        candidates: массив строк(кандидатов) [a, b, c]\n",
        "        result: пары (начальная позиция, кандидат) [(2, c), (0, a), (1, b)]\n",
        "    \"\"\"\n",
        "    '''your code'''\n",
        "    tmp_res = []\n",
        "    que_vec = question_to_vec(question.lower(), embeddings, tokenizer, dim)\n",
        "    for i in range(len(candidates)):\n",
        "        can_vec = question_to_vec(candidates[i].lower(), embeddings, tokenizer, dim)\n",
        "        cos_sim = cosine_similarity([que_vec], [can_vec])[0]\n",
        "        e = [cos_sim[0], i]\n",
        "        tmp_res.append(e)\n",
        "    tmp_res.sort(key=lambda x: -x[0])\n",
        "    result = []\n",
        "    for i in range(len(tmp_res)):\n",
        "        num = tmp_res[i][1]\n",
        "        x = (num, candidates[num])\n",
        "        result.append(x)\n",
        "\n",
        "    return result"
      ],
      "execution_count": null,
      "outputs": []
    },
    {
      "cell_type": "markdown",
      "metadata": {
        "id": "TnBszTb76j3c"
      },
      "source": [
        "Протестируйте работу функции на примерах ниже. Пусть $N=2$, то есть два эксперимента"
      ]
    },
    {
      "cell_type": "code",
      "metadata": {
        "id": "xvQgtP176j3h"
      },
      "source": [
        "questions = ['converting string to list', 'Sending array via Ajax fails'] \n",
        "\n",
        "candidates = [['Convert Google results object (pure js) to Python object', # первый эксперимент\n",
        "               'C# create cookie from string and send it',\n",
        "               'How to use jQuery AJAX for an outside domain?'],\n",
        "              \n",
        "              ['Getting all list items of an unordered list in PHP',      # второй эксперимент\n",
        "               'WPF- How to update the changes in list item of a list',\n",
        "               'select2 not displaying search results']]"
      ],
      "execution_count": null,
      "outputs": []
    },
    {
      "cell_type": "code",
      "metadata": {
        "id": "bPj1JGFi6j3m",
        "colab": {
          "base_uri": "https://localhost:8080/"
        },
        "outputId": "55c4bdaa-f860-415d-80be-5442902cc7a1"
      },
      "source": [
        "for question, q_candidates in zip(questions, candidates):\n",
        "        ranks = rank_candidates(question, q_candidates, wv_embeddings, tokenizer_v1)\n",
        "        print(ranks)\n",
        "        print()"
      ],
      "execution_count": null,
      "outputs": [
        {
          "output_type": "stream",
          "text": [
            "[(1, 'C# create cookie from string and send it'), (0, 'Convert Google results object (pure js) to Python object'), (2, 'How to use jQuery AJAX for an outside domain?')]\n",
            "\n",
            "[(0, 'Getting all list items of an unordered list in PHP'), (2, 'select2 not displaying search results'), (1, 'WPF- How to update the changes in list item of a list')]\n",
            "\n"
          ],
          "name": "stdout"
        }
      ]
    },
    {
      "cell_type": "markdown",
      "metadata": {
        "id": "jm4cidj56j3q"
      },
      "source": [
        "Для первого экперимента вы можете полностью сравнить ваши ответы и правильные ответы. Но для второго эксперимента два ответа на кандидаты будут <b>скрыты</b>(*)"
      ]
    },
    {
      "cell_type": "code",
      "metadata": {
        "id": "0LeKMIsn6j3s"
      },
      "source": [
        "# должно вывести\n",
        "results = [[(1, 'C# create cookie from string and send it'),\n",
        "            (0, 'Convert Google results object (pure js) to Python object'),\n",
        "            (2, 'How to use jQuery AJAX for an outside domain?')],\n",
        "           [(0, 'Getting all list items of an unordered list in PHP'), #скрыт\n",
        "            (2, 'select2 not displaying search results'), #скрыт\n",
        "            (1, 'WPF- How to update the changes in list item of a list')]] #скрыт"
      ],
      "execution_count": null,
      "outputs": []
    },
    {
      "cell_type": "markdown",
      "metadata": {
        "id": "t1ttnIBe6j3x"
      },
      "source": [
        "Последовательность начальных индексов вы должны получить `для эксперимента 1`  1, 0, 2."
      ]
    },
    {
      "cell_type": "markdown",
      "metadata": {
        "id": "5WQgYDWd6j3y"
      },
      "source": [
        "#### Вопрос 5:\n",
        "* Какую последовательность начальных индексов вы получили `для эксперимента 2`(перечисление без запятой и пробелов, например, `102` для первого эксперимента?"
      ]
    },
    {
      "cell_type": "markdown",
      "metadata": {
        "id": "l4vaJp43xxmW"
      },
      "source": [
        "021"
      ]
    },
    {
      "cell_type": "markdown",
      "metadata": {
        "id": "fPllOY-Y6j30"
      },
      "source": [
        "Теперь мы можем оценить качество нашего метода. Запустите следующие два блока кода для получения результата. Обратите внимание, что вычисление расстояния между векторами занимает некоторое время (примерно 10 минут). Можете взять для validation 1000 примеров."
      ]
    },
    {
      "cell_type": "code",
      "metadata": {
        "id": "Z3q9sxddz-yU"
      },
      "source": [
        "from tqdm.notebook import tqdm"
      ],
      "execution_count": null,
      "outputs": []
    },
    {
      "cell_type": "code",
      "metadata": {
        "id": "nu7K4mis6j32",
        "colab": {
          "base_uri": "https://localhost:8080/",
          "height": 49,
          "referenced_widgets": [
            "e1ce5c8a74254f62a0115ca1aae57680",
            "d19a4bda88fc4734a81c47ad236f1b97",
            "a927eee2e81843a09b1217ab4771106d",
            "37006daf800d4872a531d08ad7d7e38c",
            "af1e5b18374642e99cc8366a479989c9",
            "901acea51fde4bcfa00dd7449a109020",
            "63bf772257de4b159098b9a1a27e9151",
            "5df6bab02cd242588db9fdd414f684e0"
          ]
        },
        "outputId": "02931a28-d764-419f-e2d1-75ef3b4bcf26"
      },
      "source": [
        "wv_ranking = []\n",
        "max_validation_examples = 1000\n",
        "for i, line in enumerate(tqdm(validation_data)):\n",
        "    if i == max_validation_examples:\n",
        "        break\n",
        "    q, *ex = line\n",
        "    ranks = rank_candidates(q, ex, wv_embeddings, tokenizer_v2)\n",
        "    wv_ranking.append([r[0] for r in ranks].index(0) + 1)"
      ],
      "execution_count": null,
      "outputs": [
        {
          "output_type": "display_data",
          "data": {
            "application/vnd.jupyter.widget-view+json": {
              "model_id": "e1ce5c8a74254f62a0115ca1aae57680",
              "version_minor": 0,
              "version_major": 2
            },
            "text/plain": [
              "HBox(children=(FloatProgress(value=0.0, max=3760.0), HTML(value='')))"
            ]
          },
          "metadata": {
            "tags": []
          }
        }
      ]
    },
    {
      "cell_type": "code",
      "metadata": {
        "scrolled": true,
        "id": "gDtS520v6j35",
        "colab": {
          "base_uri": "https://localhost:8080/",
          "height": 168,
          "referenced_widgets": [
            "8d6ab003b3e74105a9e8dd85c26e4352",
            "eaa80071cdb5449fbb11defc0a1cebff",
            "075d3fcb87334cb2959462064a0165c0",
            "16009825d3e341aba956a844bee953f1",
            "da37e28d7eeb4f6ea643ee45ced040ff",
            "5f0f76dac0d4440e94f9c19efa0ceeb6",
            "283f95919b1148efb4a55bf9a8d979a1",
            "72fc7515a3fe47c398f100e7ecd5fc80"
          ]
        },
        "outputId": "cc21d89b-31fd-4a8e-ca68-34526798a868"
      },
      "source": [
        "for k in tqdm([1, 5, 10, 100, 500, 1000]):\n",
        "    print(\"DCG@%4d: %.3f | Hits@%4d: %.3f\" % (k, dcg_score(wv_ranking, k), k, hits_count(wv_ranking, k)))"
      ],
      "execution_count": null,
      "outputs": [
        {
          "output_type": "display_data",
          "data": {
            "application/vnd.jupyter.widget-view+json": {
              "model_id": "8d6ab003b3e74105a9e8dd85c26e4352",
              "version_minor": 0,
              "version_major": 2
            },
            "text/plain": [
              "HBox(children=(FloatProgress(value=0.0, max=6.0), HTML(value='')))"
            ]
          },
          "metadata": {
            "tags": []
          }
        },
        {
          "output_type": "stream",
          "text": [
            "DCG@   1: 0.415 | Hits@   1: 0.415\n",
            "DCG@   5: 0.502 | Hits@   5: 0.582\n",
            "DCG@  10: 0.525 | Hits@  10: 0.651\n",
            "DCG@ 100: 0.570 | Hits@ 100: 0.874\n",
            "DCG@ 500: 0.583 | Hits@ 500: 0.973\n",
            "DCG@1000: 0.586 | Hits@1000: 1.000\n",
            "\n"
          ],
          "name": "stdout"
        }
      ]
    },
    {
      "cell_type": "markdown",
      "metadata": {
        "id": "LL6_Rjg3InL8"
      },
      "source": [
        "### Эмбеддинги, обученные на корпусе похожих вопросов"
      ]
    },
    {
      "cell_type": "code",
      "metadata": {
        "id": "l6T6E_v0CFD-"
      },
      "source": [
        "def read_date(filename):\r\n",
        "    data = open(filename, encoding='utf-8')\r\n",
        "    return data.read()"
      ],
      "execution_count": null,
      "outputs": []
    },
    {
      "cell_type": "code",
      "metadata": {
        "id": "iNvbpR5gJIPz"
      },
      "source": [
        "train_data = read_corpus('./data/train.tsv')"
      ],
      "execution_count": null,
      "outputs": []
    },
    {
      "cell_type": "markdown",
      "metadata": {
        "id": "Nr281ZyEJfjT"
      },
      "source": [
        "Улучшите качество модели.<br>Склеим вопросы в пары и обучим на них модель Word2Vec из gensim. Выберите размер window. Объясните свой выбор."
      ]
    },
    {
      "cell_type": "code",
      "metadata": {
        "id": "M6vaWBHorAGS"
      },
      "source": [
        "train_data = read_date('./data/train.tsv')"
      ],
      "execution_count": null,
      "outputs": []
    },
    {
      "cell_type": "code",
      "metadata": {
        "id": "f6Y46SSQMTL0"
      },
      "source": [
        "def split_data(train_data):\r\n",
        "    data = []\r\n",
        "    for doc in nlp.pipe(train_data, batch_size=256, n_process=12, disable=[\"parser\", \"ner\"]):\r\n",
        "        data.append(' '.join([token.lemma_ for token in doc if token.lemma_ not in stopWords]))\r\n",
        "    return data"
      ],
      "execution_count": null,
      "outputs": []
    },
    {
      "cell_type": "code",
      "metadata": {
        "colab": {
          "base_uri": "https://localhost:8080/"
        },
        "id": "79HOih47RtiI",
        "outputId": "1a05f54e-7adb-4c7e-dbae-64ec56f3b117"
      },
      "source": [
        "len(train_data)"
      ],
      "execution_count": null,
      "outputs": [
        {
          "output_type": "execute_result",
          "data": {
            "text/plain": [
              "1000000"
            ]
          },
          "metadata": {
            "tags": []
          },
          "execution_count": 44
        }
      ]
    },
    {
      "cell_type": "code",
      "metadata": {
        "colab": {
          "base_uri": "https://localhost:8080/"
        },
        "id": "LA5fw17NG4us",
        "outputId": "a0f094eb-41c9-48d7-ef11-0b5eede8c39d"
      },
      "source": [
        "import nltk\r\n",
        "from nltk.corpus import stopwords\r\n",
        "nltk.download('stopwords')\r\n",
        "stopWords = set(stopwords.words('english'))\r\n",
        "nltk.download('wordnet')\r\n",
        "wnl = nltk.WordNetLemmatizer()"
      ],
      "execution_count": null,
      "outputs": [
        {
          "output_type": "stream",
          "text": [
            "[nltk_data] Downloading package stopwords to /root/nltk_data...\n",
            "[nltk_data]   Package stopwords is already up-to-date!\n",
            "[nltk_data] Downloading package wordnet to /root/nltk_data...\n",
            "[nltk_data]   Package wordnet is already up-to-date!\n"
          ],
          "name": "stdout"
        }
      ]
    },
    {
      "cell_type": "code",
      "metadata": {
        "id": "XYJDDwK3Say1"
      },
      "source": [
        "def preproc_nltk(text):\r\n",
        "    #text = re.sub(f'[{string.punctuation}]', ' ', text)\r\n",
        "    data = []\r\n",
        "    xx = 0\r\n",
        "    for i in text:\r\n",
        "        if xx > 1:\r\n",
        "            break\r\n",
        "        #data.append([wnl.lemmatize(word) for word in tokenizer.tokenize(i.lower()) if word not in stopWords])\r\n",
        "        i = i.lower()\r\n",
        "        # spacy_results = nlp(i)\r\n",
        "        # print('spacy_results', spacy_results)\r\n",
        "        g = ' '.join([word for word in tokenizer_v2.tokenize(i) if word not in stopWords])\r\n",
        "        #print('g', g)\r\n",
        "        data.append(g)\r\n",
        "        xx += 1\r\n",
        "    return data"
      ],
      "execution_count": null,
      "outputs": []
    },
    {
      "cell_type": "code",
      "metadata": {
        "colab": {
          "base_uri": "https://localhost:8080/"
        },
        "id": "0k8ue7qW2t5g",
        "outputId": "5a8c8e0e-239a-4230-a3aa-d2c748f556c3"
      },
      "source": [
        "train_data[1]"
      ],
      "execution_count": null,
      "outputs": [
        {
          "output_type": "execute_result",
          "data": {
            "text/plain": [
              "['Which HTML 5 Canvas Javascript to use for making an interactive drawing tool?',\n",
              " 'Event handling for geometries in Three.js?']"
            ]
          },
          "metadata": {
            "tags": []
          },
          "execution_count": 66
        }
      ]
    },
    {
      "cell_type": "code",
      "metadata": {
        "id": "aEAVE9SMSYyr"
      },
      "source": [
        "words = [preproc_nltk(text) for text in train_data]"
      ],
      "execution_count": null,
      "outputs": []
    },
    {
      "cell_type": "code",
      "metadata": {
        "colab": {
          "base_uri": "https://localhost:8080/"
        },
        "id": "J5L5dreOO1Jy",
        "outputId": "409198ee-3043-4f0c-b20c-7e3e22f03f72"
      },
      "source": [
        "words[1]"
      ],
      "execution_count": null,
      "outputs": [
        {
          "output_type": "execute_result",
          "data": {
            "text/plain": [
              "['html 5 canvas javascript use making interactive drawing tool',\n",
              " 'event handling geometries three js']"
            ]
          },
          "metadata": {
            "tags": []
          },
          "execution_count": 38
        }
      ]
    },
    {
      "cell_type": "code",
      "metadata": {
        "id": "QuJzAM0cI-UH"
      },
      "source": [
        "from gensim.models import Word2Vec\n",
        "embeddings_trained = Word2Vec(words, # data for model to train on\n",
        "                 size=200,                 # embedding vector size\n",
        "                 min_count=3,             # consider words that occured at least 5 times\n",
        "                 window=3).wv # достаточно близкие слова"
      ],
      "execution_count": null,
      "outputs": []
    },
    {
      "cell_type": "code",
      "metadata": {
        "id": "OQonbm4nMenD",
        "colab": {
          "base_uri": "https://localhost:8080/",
          "height": 49,
          "referenced_widgets": [
            "a325aa14d0774a22a2eaef781e2276a3",
            "35df08941bcc4cf9bd98999954077ea3",
            "52edac71821e46ddb86c69bd0ee80db6",
            "c3831289446e4aa6a40be0678b86f401",
            "bd5a7e8027954404834c3177e4bce22f",
            "d978cd31126e4682acc26786dfd95c54",
            "45a0c7ebd54346a68cda7ec9eabb7da9",
            "11dbacf435e64978b71d479ceea0e556"
          ]
        },
        "outputId": "024f7771-c3d7-4167-f4b0-df8d96ef71a1"
      },
      "source": [
        "wv_ranking = []\n",
        "max_validation_examples = 1000\n",
        "for i, line in enumerate(tqdm(validation_data)):\n",
        "    if i == max_validation_examples:\n",
        "        break\n",
        "    q, *ex = line\n",
        "    ranks = rank_candidates(q, ex, embeddings_trained, tokenizer_v1)\n",
        "    wv_ranking.append([r[0] for r in ranks].index(0) + 1)"
      ],
      "execution_count": null,
      "outputs": [
        {
          "output_type": "display_data",
          "data": {
            "application/vnd.jupyter.widget-view+json": {
              "model_id": "a325aa14d0774a22a2eaef781e2276a3",
              "version_minor": 0,
              "version_major": 2
            },
            "text/plain": [
              "HBox(children=(FloatProgress(value=0.0, max=3760.0), HTML(value='')))"
            ]
          },
          "metadata": {
            "tags": []
          }
        }
      ]
    },
    {
      "cell_type": "code",
      "metadata": {
        "id": "3kahBUPGMgGR",
        "colab": {
          "base_uri": "https://localhost:8080/",
          "height": 168,
          "referenced_widgets": [
            "343c33f3671b4fbf9c1ccc5e15bd0a0f",
            "5e02089545ec40afba1e309fdc970683",
            "783ef4767077432eabd1c9e76845f8e8",
            "48daa207f725407ab2418d21d7e77a3d",
            "9509fecd36d4443081b8db0641feab4b",
            "9997dc16786a48a9979b65005b571fa5",
            "3a0eccdce6994f48b0163b746788ef20",
            "027178086e3d442cb703151c56570bbb"
          ]
        },
        "outputId": "c69f7f2e-4f3f-4e57-93f4-3c907e478ac8"
      },
      "source": [
        "for k in tqdm([1, 5, 10, 100, 500, 1000]):\n",
        "    print(\"DCG@%4d: %.3f | Hits@%4d: %.3f\" % (k, dcg_score(wv_ranking, k), k, hits_count(wv_ranking, k)))"
      ],
      "execution_count": null,
      "outputs": [
        {
          "output_type": "display_data",
          "data": {
            "application/vnd.jupyter.widget-view+json": {
              "model_id": "343c33f3671b4fbf9c1ccc5e15bd0a0f",
              "version_minor": 0,
              "version_major": 2
            },
            "text/plain": [
              "HBox(children=(FloatProgress(value=0.0, max=6.0), HTML(value='')))"
            ]
          },
          "metadata": {
            "tags": []
          }
        },
        {
          "output_type": "stream",
          "text": [
            "DCG@   1: 0.772 | Hits@   1: 0.772\n",
            "DCG@   5: 0.776 | Hits@   5: 0.780\n",
            "DCG@  10: 0.778 | Hits@  10: 0.786\n",
            "DCG@ 100: 0.784 | Hits@ 100: 0.814\n",
            "DCG@ 500: 0.805 | Hits@ 500: 0.970\n",
            "DCG@1000: 0.808 | Hits@1000: 1.000\n",
            "\n"
          ],
          "name": "stdout"
        }
      ]
    },
    {
      "cell_type": "markdown",
      "metadata": {
        "id": "tY8PxB0j-ThG"
      },
      "source": [
        "### Замечание:\n",
        "Решить эту задачу с помощью обучения полноценной нейронной сети будет вам предложено, как часть задания в одной из домашних работ по теме \"Диалоговые системы\"."
      ]
    },
    {
      "cell_type": "markdown",
      "metadata": {
        "id": "vymVj8IxO2PO"
      },
      "source": [
        "Напишите свой вывод о полученных результатах.\n",
        "* Какой принцип токенизации даёт качество лучше и почему?\n",
        "* Помогает ли нормализация слов?\n",
        "* Какие эмбеддинги лучше справляются с задачей и почему?\n",
        "* Почему получилось плохое качество решения задачи?\n",
        "* Предложите свой подход к решению задачи.\n",
        "\n",
        "## Вывод:\n"
      ]
    },
    {
      "cell_type": "markdown",
      "metadata": {
        "id": "emODHztAQUQz"
      },
      "source": [
        "1) Для предобученных ембеддингов токинайзер, оставляющий пунктуацию, работает немного лучше чем токенайзер убирающий пунктуацию.\r\n",
        "\r\n",
        "![предобученные_emb_.PNG](data:image/png;base64,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)\r\n",
        "\r\n",
        "![предобученные_emb_без_пунктуации.PNG](data:image/png;base64,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)\r\n",
        "\r\n",
        "2) Для обученных нами эмбеддингов нормализация не дала улучшений.\r\n",
        "\r\n",
        "3) Обученные нами эмбеддинги дают качество выше, по-видимому из-за того что обучались на нашем же тексте.\r\n",
        "\r\n",
        "4) Плохое качество решения задачи получилось на эмбеддингах, полученных в результате обучения на других текстах.\r\n",
        "\r\n",
        "5) Также можно увеличить число эмбеддингов и удалить часто встречающиеся слова, которые не несут информации. "
      ]
    }
  ]
}